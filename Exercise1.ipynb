{
  "nbformat": 4,
  "nbformat_minor": 0,
  "metadata": {
    "colab": {
      "provenance": [],
      "authorship_tag": "ABX9TyP4Ocu0M6DcZx4ZqE2RFNKp",
      "include_colab_link": true
    },
    "kernelspec": {
      "name": "python3",
      "display_name": "Python 3"
    },
    "language_info": {
      "name": "python"
    }
  },
  "cells": [
    {
      "cell_type": "markdown",
      "metadata": {
        "id": "view-in-github",
        "colab_type": "text"
      },
      "source": [
        "<a href=\"https://colab.research.google.com/github/P-AshishKumar/2d-car-game/blob/master/Exercise1.ipynb\" target=\"_parent\"><img src=\"https://colab.research.google.com/assets/colab-badge.svg\" alt=\"Open In Colab\"/></a>"
      ]
    },
    {
      "cell_type": "code",
      "execution_count": null,
      "metadata": {
        "colab": {
          "base_uri": "https://localhost:8080/"
        },
        "id": "YRUo-Ba1nNhu",
        "outputId": "2411dda7-3cb7-404c-8d71-6028fd496d22"
      },
      "outputs": [
        {
          "output_type": "stream",
          "name": "stdout",
          "text": [
            "Requirement already satisfied: nltk in /usr/local/lib/python3.11/dist-packages (3.9.1)\n",
            "Requirement already satisfied: click in /usr/local/lib/python3.11/dist-packages (from nltk) (8.1.8)\n",
            "Requirement already satisfied: joblib in /usr/local/lib/python3.11/dist-packages (from nltk) (1.4.2)\n",
            "Requirement already satisfied: regex>=2021.8.3 in /usr/local/lib/python3.11/dist-packages (from nltk) (2024.11.6)\n",
            "Requirement already satisfied: tqdm in /usr/local/lib/python3.11/dist-packages (from nltk) (4.67.1)\n"
          ]
        }
      ],
      "source": [
        "!pip3 install nltk"
      ]
    },
    {
      "cell_type": "code",
      "source": [
        "\n",
        "import nltk\n",
        "from nltk.tokenize import sent_tokenize, word_tokenize\n",
        "from nltk.corpus import stopwords\n",
        "from nltk.stem import PorterStemmer\n",
        "from nltk import pos_tag\n",
        "import ssl\n",
        "\n",
        "# # Download necessary data files\n",
        "# nltk.download('punkt')\n",
        "# nltk.download('stopwords')\n",
        "# nltk.download('averaged_perceptron_tagger')\n",
        "# nltk.download('punkt_tab')\n",
        "#nltk.download('averaged_perceptron_tagger_eng')\n"
      ],
      "metadata": {
        "colab": {
          "base_uri": "https://localhost:8080/"
        },
        "id": "vIckmmMXnY5y",
        "outputId": "ee83544c-656e-4468-8bd7-346b4002ac4a"
      },
      "execution_count": null,
      "outputs": [
        {
          "output_type": "stream",
          "name": "stderr",
          "text": [
            "[nltk_data] Downloading package averaged_perceptron_tagger_eng to\n",
            "[nltk_data]     /root/nltk_data...\n",
            "[nltk_data]   Unzipping taggers/averaged_perceptron_tagger_eng.zip.\n"
          ]
        },
        {
          "output_type": "execute_result",
          "data": {
            "text/plain": [
              "True"
            ]
          },
          "metadata": {},
          "execution_count": 14
        }
      ]
    },
    {
      "cell_type": "code",
      "source": [
        "paragraph = \"\"\"\n",
        "Artificial Intelligence has profoundly transformed many aspects of our daily lives, from virtual assistants like Siri and Alexa, to sophisticated recommendation systems on platforms such as Netflix and Amazon. With advancements in natural language processing, machines can now interpret human speech and text more effectively, leading to significant improvements in communication technologies. However, ethical considerations regarding data privacy and algorithmic bias remain critical areas of concern as we continue to integrate AI deeper into society.\n",
        "\"\"\"\n",
        "print(paragraph)\n"
      ],
      "metadata": {
        "colab": {
          "base_uri": "https://localhost:8080/"
        },
        "id": "aYDQ1O9znmMJ",
        "outputId": "ce9edc9a-4548-40f6-a7f8-7fe0414d7166"
      },
      "execution_count": null,
      "outputs": [
        {
          "output_type": "stream",
          "name": "stdout",
          "text": [
            "\n",
            "Artificial Intelligence has profoundly transformed many aspects of our daily lives, from virtual assistants like Siri and Alexa, to sophisticated recommendation systems on platforms such as Netflix and Amazon. With advancements in natural language processing, machines can now interpret human speech and text more effectively, leading to significant improvements in communication technologies. However, ethical considerations regarding data privacy and algorithmic bias remain critical areas of concern as we continue to integrate AI deeper into society.\n",
            "\n"
          ]
        }
      ]
    },
    {
      "cell_type": "code",
      "source": [
        "sentences = sent_tokenize(paragraph)\n",
        "print(\"Segmented Sentences:\")\n",
        "for sentence in sentences:\n",
        "    print(sentence)\n"
      ],
      "metadata": {
        "colab": {
          "base_uri": "https://localhost:8080/"
        },
        "id": "4HT8ySHenreN",
        "outputId": "222c5ec6-ca39-45ee-ae78-a58871afc599"
      },
      "execution_count": null,
      "outputs": [
        {
          "output_type": "stream",
          "name": "stdout",
          "text": [
            "Segmented Sentences:\n",
            "\n",
            "Artificial Intelligence has profoundly transformed many aspects of our daily lives, from virtual assistants like Siri and Alexa, to sophisticated recommendation systems on platforms such as Netflix and Amazon.\n",
            "With advancements in natural language processing, machines can now interpret human speech and text more effectively, leading to significant improvements in communication technologies.\n",
            "However, ethical considerations regarding data privacy and algorithmic bias remain critical areas of concern as we continue to integrate AI deeper into society.\n"
          ]
        }
      ]
    },
    {
      "cell_type": "code",
      "source": [
        "tokens = word_tokenize(paragraph)\n",
        "print(\"Tokens:\")\n",
        "print(tokens)\n"
      ],
      "metadata": {
        "colab": {
          "base_uri": "https://localhost:8080/"
        },
        "id": "tL9mMW-GoPHs",
        "outputId": "9b6980e5-53bc-4ccf-99b0-e290175d9ba2"
      },
      "execution_count": null,
      "outputs": [
        {
          "output_type": "stream",
          "name": "stdout",
          "text": [
            "Tokens:\n",
            "['Artificial', 'Intelligence', 'has', 'profoundly', 'transformed', 'many', 'aspects', 'of', 'our', 'daily', 'lives', ',', 'from', 'virtual', 'assistants', 'like', 'Siri', 'and', 'Alexa', ',', 'to', 'sophisticated', 'recommendation', 'systems', 'on', 'platforms', 'such', 'as', 'Netflix', 'and', 'Amazon', '.', 'With', 'advancements', 'in', 'natural', 'language', 'processing', ',', 'machines', 'can', 'now', 'interpret', 'human', 'speech', 'and', 'text', 'more', 'effectively', ',', 'leading', 'to', 'significant', 'improvements', 'in', 'communication', 'technologies', '.', 'However', ',', 'ethical', 'considerations', 'regarding', 'data', 'privacy', 'and', 'algorithmic', 'bias', 'remain', 'critical', 'areas', 'of', 'concern', 'as', 'we', 'continue', 'to', 'integrate', 'AI', 'deeper', 'into', 'society', '.']\n"
          ]
        }
      ]
    },
    {
      "cell_type": "code",
      "source": [
        "stop_words = set(stopwords.words('english'))\n",
        "tokens_no_stopwords = [word for word in tokens if word.lower() not in stop_words and word.isalpha()]\n",
        "print(\"Tokens after removing stop words:\")\n",
        "print(tokens_no_stopwords)\n"
      ],
      "metadata": {
        "colab": {
          "base_uri": "https://localhost:8080/"
        },
        "id": "TvSuXd6CoT_q",
        "outputId": "5201d662-53f4-4612-840f-188269d8de48"
      },
      "execution_count": null,
      "outputs": [
        {
          "output_type": "stream",
          "name": "stdout",
          "text": [
            "Tokens after removing stop words:\n",
            "['Artificial', 'Intelligence', 'profoundly', 'transformed', 'many', 'aspects', 'daily', 'lives', 'virtual', 'assistants', 'like', 'Siri', 'Alexa', 'sophisticated', 'recommendation', 'systems', 'platforms', 'Netflix', 'Amazon', 'advancements', 'natural', 'language', 'processing', 'machines', 'interpret', 'human', 'speech', 'text', 'effectively', 'leading', 'significant', 'improvements', 'communication', 'technologies', 'However', 'ethical', 'considerations', 'regarding', 'data', 'privacy', 'algorithmic', 'bias', 'remain', 'critical', 'areas', 'concern', 'continue', 'integrate', 'AI', 'deeper', 'society']\n"
          ]
        }
      ]
    },
    {
      "cell_type": "code",
      "source": [
        "ps = PorterStemmer()\n",
        "stemmed_tokens = [ps.stem(word) for word in tokens_no_stopwords]\n",
        "print(\"Stemmed Tokens:\")\n",
        "print(stemmed_tokens)\n"
      ],
      "metadata": {
        "colab": {
          "base_uri": "https://localhost:8080/"
        },
        "id": "gdhv6Yx1oZcA",
        "outputId": "53ac13cb-7ea1-4568-9b46-57d18a77ec66"
      },
      "execution_count": null,
      "outputs": [
        {
          "output_type": "stream",
          "name": "stdout",
          "text": [
            "Stemmed Tokens:\n",
            "['artifici', 'intellig', 'profoundli', 'transform', 'mani', 'aspect', 'daili', 'live', 'virtual', 'assist', 'like', 'siri', 'alexa', 'sophist', 'recommend', 'system', 'platform', 'netflix', 'amazon', 'advanc', 'natur', 'languag', 'process', 'machin', 'interpret', 'human', 'speech', 'text', 'effect', 'lead', 'signific', 'improv', 'commun', 'technolog', 'howev', 'ethic', 'consider', 'regard', 'data', 'privaci', 'algorithm', 'bia', 'remain', 'critic', 'area', 'concern', 'continu', 'integr', 'ai', 'deeper', 'societi']\n"
          ]
        }
      ]
    },
    {
      "cell_type": "code",
      "source": [
        "pos_tags = pos_tag(tokens_no_stopwords)\n",
        "print(\"POS Tagging:\")\n",
        "print(pos_tags)\n"
      ],
      "metadata": {
        "colab": {
          "base_uri": "https://localhost:8080/"
        },
        "id": "JW4_6I2oocNB",
        "outputId": "d34f69c9-d209-4738-d7dc-efeb4ba98ed9"
      },
      "execution_count": null,
      "outputs": [
        {
          "output_type": "stream",
          "name": "stdout",
          "text": [
            "POS Tagging:\n",
            "[('Artificial', 'JJ'), ('Intelligence', 'NNP'), ('profoundly', 'RB'), ('transformed', 'VBD'), ('many', 'JJ'), ('aspects', 'NNS'), ('daily', 'JJ'), ('lives', 'VBZ'), ('virtual', 'JJ'), ('assistants', 'NNS'), ('like', 'IN'), ('Siri', 'NNP'), ('Alexa', 'NNP'), ('sophisticated', 'JJ'), ('recommendation', 'NN'), ('systems', 'NNS'), ('platforms', 'VBZ'), ('Netflix', 'NNP'), ('Amazon', 'NNP'), ('advancements', 'VBZ'), ('natural', 'JJ'), ('language', 'NN'), ('processing', 'NN'), ('machines', 'NNS'), ('interpret', 'JJ'), ('human', 'JJ'), ('speech', 'NN'), ('text', 'NN'), ('effectively', 'RB'), ('leading', 'VBG'), ('significant', 'JJ'), ('improvements', 'NNS'), ('communication', 'NN'), ('technologies', 'NNS'), ('However', 'RB'), ('ethical', 'JJ'), ('considerations', 'NNS'), ('regarding', 'VBG'), ('data', 'NNS'), ('privacy', 'NN'), ('algorithmic', 'JJ'), ('bias', 'NN'), ('remain', 'VBP'), ('critical', 'JJ'), ('areas', 'NNS'), ('concern', 'NN'), ('continue', 'VBP'), ('integrate', 'NN'), ('AI', 'NNP'), ('deeper', 'JJR'), ('society', 'NN')]\n"
          ]
        }
      ]
    }
  ]
}